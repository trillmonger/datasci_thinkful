{
 "cells": [
  {
   "cell_type": "code",
   "execution_count": 32,
   "id": "0e3e8eba-09d9-4b09-8981-70e9ea7d6edc",
   "metadata": {},
   "outputs": [],
   "source": [
    "from sklearn.linear_model import LogisticRegression\n",
    "from sklearn.ensemble import RandomForestClassifier\n",
    "from sklearn.model_selection import train_test_split\n",
    "from sklearn.model_selection import cross_val_score\n",
    "from sklearn.datasets import load_digits\n",
    "from sklearn.metrics import  classification_report, confusion_matrix\n",
    "\n",
    "import matplotlib.pyplot as plt\n",
    "import pandas as pd\n",
    "import numpy as np\n",
    "import seaborn as sns\n"
   ]
  },
  {
   "cell_type": "code",
   "execution_count": 34,
   "id": "3bf9b22f-5c8f-4d9c-82e0-17df9305b104",
   "metadata": {},
   "outputs": [
    {
     "name": "stdout",
     "output_type": "stream",
     "text": [
      "<class 'pandas.core.frame.DataFrame'>\n",
      "RangeIndex: 1797 entries, 0 to 1796\n",
      "Data columns (total 64 columns):\n",
      " #   Column     Non-Null Count  Dtype  \n",
      "---  ------     --------------  -----  \n",
      " 0   pixel_0_0  1797 non-null   float64\n",
      " 1   pixel_0_1  1797 non-null   float64\n",
      " 2   pixel_0_2  1797 non-null   float64\n",
      " 3   pixel_0_3  1797 non-null   float64\n",
      " 4   pixel_0_4  1797 non-null   float64\n",
      " 5   pixel_0_5  1797 non-null   float64\n",
      " 6   pixel_0_6  1797 non-null   float64\n",
      " 7   pixel_0_7  1797 non-null   float64\n",
      " 8   pixel_1_0  1797 non-null   float64\n",
      " 9   pixel_1_1  1797 non-null   float64\n",
      " 10  pixel_1_2  1797 non-null   float64\n",
      " 11  pixel_1_3  1797 non-null   float64\n",
      " 12  pixel_1_4  1797 non-null   float64\n",
      " 13  pixel_1_5  1797 non-null   float64\n",
      " 14  pixel_1_6  1797 non-null   float64\n",
      " 15  pixel_1_7  1797 non-null   float64\n",
      " 16  pixel_2_0  1797 non-null   float64\n",
      " 17  pixel_2_1  1797 non-null   float64\n",
      " 18  pixel_2_2  1797 non-null   float64\n",
      " 19  pixel_2_3  1797 non-null   float64\n",
      " 20  pixel_2_4  1797 non-null   float64\n",
      " 21  pixel_2_5  1797 non-null   float64\n",
      " 22  pixel_2_6  1797 non-null   float64\n",
      " 23  pixel_2_7  1797 non-null   float64\n",
      " 24  pixel_3_0  1797 non-null   float64\n",
      " 25  pixel_3_1  1797 non-null   float64\n",
      " 26  pixel_3_2  1797 non-null   float64\n",
      " 27  pixel_3_3  1797 non-null   float64\n",
      " 28  pixel_3_4  1797 non-null   float64\n",
      " 29  pixel_3_5  1797 non-null   float64\n",
      " 30  pixel_3_6  1797 non-null   float64\n",
      " 31  pixel_3_7  1797 non-null   float64\n",
      " 32  pixel_4_0  1797 non-null   float64\n",
      " 33  pixel_4_1  1797 non-null   float64\n",
      " 34  pixel_4_2  1797 non-null   float64\n",
      " 35  pixel_4_3  1797 non-null   float64\n",
      " 36  pixel_4_4  1797 non-null   float64\n",
      " 37  pixel_4_5  1797 non-null   float64\n",
      " 38  pixel_4_6  1797 non-null   float64\n",
      " 39  pixel_4_7  1797 non-null   float64\n",
      " 40  pixel_5_0  1797 non-null   float64\n",
      " 41  pixel_5_1  1797 non-null   float64\n",
      " 42  pixel_5_2  1797 non-null   float64\n",
      " 43  pixel_5_3  1797 non-null   float64\n",
      " 44  pixel_5_4  1797 non-null   float64\n",
      " 45  pixel_5_5  1797 non-null   float64\n",
      " 46  pixel_5_6  1797 non-null   float64\n",
      " 47  pixel_5_7  1797 non-null   float64\n",
      " 48  pixel_6_0  1797 non-null   float64\n",
      " 49  pixel_6_1  1797 non-null   float64\n",
      " 50  pixel_6_2  1797 non-null   float64\n",
      " 51  pixel_6_3  1797 non-null   float64\n",
      " 52  pixel_6_4  1797 non-null   float64\n",
      " 53  pixel_6_5  1797 non-null   float64\n",
      " 54  pixel_6_6  1797 non-null   float64\n",
      " 55  pixel_6_7  1797 non-null   float64\n",
      " 56  pixel_7_0  1797 non-null   float64\n",
      " 57  pixel_7_1  1797 non-null   float64\n",
      " 58  pixel_7_2  1797 non-null   float64\n",
      " 59  pixel_7_3  1797 non-null   float64\n",
      " 60  pixel_7_4  1797 non-null   float64\n",
      " 61  pixel_7_5  1797 non-null   float64\n",
      " 62  pixel_7_6  1797 non-null   float64\n",
      " 63  pixel_7_7  1797 non-null   float64\n",
      "dtypes: float64(64)\n",
      "memory usage: 898.6 KB\n"
     ]
    }
   ],
   "source": [
    "# Load the digits dataset and format it for processing \n",
    "digits_X = load_digits()\n",
    "digits = load_digits(return_X_y =True)\n",
    "dig_data = digits_X.data\n",
    "dig_target = digits_X.target\n",
    "# Create a DataFrame from the data\n",
    "\n",
    "load_digits_df = pd.DataFrame(data=digits_X.data, columns=digits_X.feature_names)\n",
    "load_digits_df.info()"
   ]
  },
  {
   "cell_type": "code",
   "execution_count": 36,
   "id": "d5a08cf1-b411-4c21-a9ba-bd491e4a9928",
   "metadata": {},
   "outputs": [],
   "source": [
    "#EDA on the two datasets \n",
    "\n",
    "df_digits_X = pd.DataFrame(dig_data)\n",
    "df_digits_y = pd.DataFrame(dig_target)\n"
   ]
  },
  {
   "cell_type": "code",
   "execution_count": 38,
   "id": "9be78c23-a3ce-4208-8444-e59db3087f2a",
   "metadata": {},
   "outputs": [
    {
     "name": "stdout",
     "output_type": "stream",
     "text": [
      "The number of rows in the datasets is 1797\n",
      "The number of features in the dataset is 64\n"
     ]
    },
    {
     "data": {
      "text/plain": [
       "array([178, 182, 177, 183, 181, 182, 181, 179, 174, 180])"
      ]
     },
     "execution_count": 38,
     "metadata": {},
     "output_type": "execute_result"
    }
   ],
   "source": [
    "df_digits_X.head(15)\n",
    "\n",
    "rows_digits = load_digits_df.shape[0]\n",
    "col_digits = load_digits_df.shape[1]\n",
    "\n",
    "print('The number of rows in the datasets is {}'.format(rows_digits)) #1 EDA\n",
    "print('The number of features in the dataset is {:d}'.format(col_digits)) #2 EDA\n",
    "np.bincount(dig_target) #3 EDA"
   ]
  },
  {
   "cell_type": "code",
   "execution_count": 40,
   "id": "0f61f2a1-950e-4f36-bfc4-9f00680a53f7",
   "metadata": {},
   "outputs": [],
   "source": [
    "#splitting the data set into training and test data \n",
    "digits_X_train, digits_X_test, digits_y_train, digits_y_test = train_test_split(dig_data, dig_target, test_size=0.2, random_state=45)"
   ]
  },
  {
   "cell_type": "code",
   "execution_count": 68,
   "id": "b12e81f6-5b85-4320-be53-e33bbe06df26",
   "metadata": {},
   "outputs": [
    {
     "name": "stdout",
     "output_type": "stream",
     "text": [
      "Accuracy scores for the 5 folds: [0.91666667 0.91666667 0.91666667 0.90277778 0.95833333]\n",
      "Mean cross validation score: 0.9222222222222222\n"
     ]
    }
   ],
   "source": [
    "#Log regression classifier OVR\n",
    "\n",
    "digit_lr_clf = LogisticRegression(solver='lbfgs', multi_class='ovr', max_iter=1000)\n",
    "digit_lr_clf_score = cross_val_score(digit_lr_clf, digits_X_test, digits_y_test, cv=5)\n",
    "mean_lr_score = np.mean(digit_lr_clf_score)\n",
    "digit_class_report = classification_report(digits_y_test, digit_lr_clf_predict)\n",
    "print('Accuracy scores for the 5 folds:',(digit_lr_clf_score))\n",
    "print('Mean cross validation score:',(mean_lr_score))\n"
   ]
  },
  {
   "cell_type": "code",
   "execution_count": 71,
   "id": "0c873883-628f-47cf-aabd-56b36a403470",
   "metadata": {},
   "outputs": [
    {
     "name": "stdout",
     "output_type": "stream",
     "text": [
      "Accuracy scores for the 5 folds: [0.84722222 0.91666667 0.91666667 0.84722222 0.93055556]\n",
      "Mean cross validation score: 0.8916666666666666\n"
     ]
    }
   ],
   "source": [
    "#Random Forest classifier\n",
    "\n",
    "dig_rf_clf = RandomForestClassifier(n_estimators = 24, random_state=64)\n",
    "dig_rf_clf_score = cross_val_score(dig_rf_clf, digits_X_test, digits_y_test, cv=5)\n",
    "mean_rf_score = np.mean(dig_rf_clf_score)\n",
    "rf_digit_class_report = classification_report(digits_y_test, digit_lr_clf_predict)\n",
    "print('Accuracy scores for the 5 folds:',(dig_rf_clf_score))\n",
    "print('Mean cross validation score:',(mean_rf_score))"
   ]
  }
 ],
 "metadata": {
  "kernelspec": {
   "display_name": "Python 3 (ipykernel)",
   "language": "python",
   "name": "python3"
  },
  "language_info": {
   "codemirror_mode": {
    "name": "ipython",
    "version": 3
   },
   "file_extension": ".py",
   "mimetype": "text/x-python",
   "name": "python",
   "nbconvert_exporter": "python",
   "pygments_lexer": "ipython3",
   "version": "3.11.7"
  }
 },
 "nbformat": 4,
 "nbformat_minor": 5
}
