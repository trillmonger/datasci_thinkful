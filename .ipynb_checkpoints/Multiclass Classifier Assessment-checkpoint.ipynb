{
 "cells": [
  {
   "cell_type": "code",
   "execution_count": 25,
   "id": "0e3e8eba-09d9-4b09-8981-70e9ea7d6edc",
   "metadata": {},
   "outputs": [],
   "source": [
    "from sklearn.linear_model import LogisticRegression\n",
    "from sklearn.ensemble import RandomForestClassifier\n",
    "from sklearn.model_selection import train_test_split\n",
    "from sklearn.model_selection import cross_val_score\n",
    "from sklearn.datasets import load_digits\n",
    "from sklearn.metrics import  classification_report, confusion_matrix\n",
    "\n",
    "import matplotlib.pyplot as plt\n",
    "import pandas as pd\n",
    "import numpy as np\n",
    "import seaborn as sns\n"
   ]
  },
  {
   "cell_type": "code",
   "execution_count": 31,
   "id": "3bf9b22f-5c8f-4d9c-82e0-17df9305b104",
   "metadata": {},
   "outputs": [
    {
     "name": "stdout",
     "output_type": "stream",
     "text": [
      "<class 'pandas.core.frame.DataFrame'>\n",
      "RangeIndex: 1797 entries, 0 to 1796\n",
      "Data columns (total 64 columns):\n",
      " #   Column  Non-Null Count  Dtype  \n",
      "---  ------  --------------  -----  \n",
      " 0   0       1797 non-null   float64\n",
      " 1   1       1797 non-null   float64\n",
      " 2   2       1797 non-null   float64\n",
      " 3   3       1797 non-null   float64\n",
      " 4   4       1797 non-null   float64\n",
      " 5   5       1797 non-null   float64\n",
      " 6   6       1797 non-null   float64\n",
      " 7   7       1797 non-null   float64\n",
      " 8   8       1797 non-null   float64\n",
      " 9   9       1797 non-null   float64\n",
      " 10  10      1797 non-null   float64\n",
      " 11  11      1797 non-null   float64\n",
      " 12  12      1797 non-null   float64\n",
      " 13  13      1797 non-null   float64\n",
      " 14  14      1797 non-null   float64\n",
      " 15  15      1797 non-null   float64\n",
      " 16  16      1797 non-null   float64\n",
      " 17  17      1797 non-null   float64\n",
      " 18  18      1797 non-null   float64\n",
      " 19  19      1797 non-null   float64\n",
      " 20  20      1797 non-null   float64\n",
      " 21  21      1797 non-null   float64\n",
      " 22  22      1797 non-null   float64\n",
      " 23  23      1797 non-null   float64\n",
      " 24  24      1797 non-null   float64\n",
      " 25  25      1797 non-null   float64\n",
      " 26  26      1797 non-null   float64\n",
      " 27  27      1797 non-null   float64\n",
      " 28  28      1797 non-null   float64\n",
      " 29  29      1797 non-null   float64\n",
      " 30  30      1797 non-null   float64\n",
      " 31  31      1797 non-null   float64\n",
      " 32  32      1797 non-null   float64\n",
      " 33  33      1797 non-null   float64\n",
      " 34  34      1797 non-null   float64\n",
      " 35  35      1797 non-null   float64\n",
      " 36  36      1797 non-null   float64\n",
      " 37  37      1797 non-null   float64\n",
      " 38  38      1797 non-null   float64\n",
      " 39  39      1797 non-null   float64\n",
      " 40  40      1797 non-null   float64\n",
      " 41  41      1797 non-null   float64\n",
      " 42  42      1797 non-null   float64\n",
      " 43  43      1797 non-null   float64\n",
      " 44  44      1797 non-null   float64\n",
      " 45  45      1797 non-null   float64\n",
      " 46  46      1797 non-null   float64\n",
      " 47  47      1797 non-null   float64\n",
      " 48  48      1797 non-null   float64\n",
      " 49  49      1797 non-null   float64\n",
      " 50  50      1797 non-null   float64\n",
      " 51  51      1797 non-null   float64\n",
      " 52  52      1797 non-null   float64\n",
      " 53  53      1797 non-null   float64\n",
      " 54  54      1797 non-null   float64\n",
      " 55  55      1797 non-null   float64\n",
      " 56  56      1797 non-null   float64\n",
      " 57  57      1797 non-null   float64\n",
      " 58  58      1797 non-null   float64\n",
      " 59  59      1797 non-null   float64\n",
      " 60  60      1797 non-null   float64\n",
      " 61  61      1797 non-null   float64\n",
      " 62  62      1797 non-null   float64\n",
      " 63  63      1797 non-null   float64\n",
      "dtypes: float64(64)\n",
      "memory usage: 898.6 KB\n"
     ]
    }
   ],
   "source": [
    "# Load the digits dataset and format it for processing \n",
    "X, y = load_digits(return_X_y =True)\n",
    "\n",
    "# Create a DataFrame from the data\n",
    "\n",
    "load_digits_df = pd.DataFrame(data=X)\n",
    "load_digits_df.info()"
   ]
  },
  {
   "cell_type": "code",
   "execution_count": 36,
   "id": "d5a08cf1-b411-4c21-a9ba-bd491e4a9928",
   "metadata": {},
   "outputs": [],
   "source": [
    "#EDA on the two datasets \n",
    "\n",
    "df_digits_X = pd.DataFrame(dig_data)\n",
    "df_digits_y = pd.DataFrame(dig_target)\n"
   ]
  },
  {
   "cell_type": "code",
   "execution_count": 39,
   "id": "9be78c23-a3ce-4208-8444-e59db3087f2a",
   "metadata": {},
   "outputs": [
    {
     "name": "stdout",
     "output_type": "stream",
     "text": [
      "The number of rows in the datasets is 1797\n",
      "The number of features in the dataset is 64\n"
     ]
    },
    {
     "data": {
      "text/plain": [
       "array([178, 182, 177, 183, 181, 182, 181, 179, 174, 180])"
      ]
     },
     "execution_count": 39,
     "metadata": {},
     "output_type": "execute_result"
    }
   ],
   "source": [
    "#Checking the values of the dataset\n",
    "load_digits_df.head(15)\n",
    "\n",
    "#EDA Getting shape of rows and clolumns \n",
    "rows_digits = load_digits_df.shape[0]\n",
    "col_digits = load_digits_df.shape[1]\n",
    "\n",
    "print('The number of rows in the datasets is {}'.format(rows_digits)) #1 EDA\n",
    "print('The number of features in the dataset is {:d}'.format(col_digits)) #2 EDA\n",
    "np.bincount(y) #3 EDA: The feature set is balanced "
   ]
  },
  {
   "cell_type": "code",
   "execution_count": 41,
   "id": "0f61f2a1-950e-4f36-bfc4-9f00680a53f7",
   "metadata": {},
   "outputs": [],
   "source": [
    "#splitting the data set into training and test data \n",
    "digits_X_train, digits_X_test, digits_y_train, digits_y_test = train_test_split(X, y, test_size=0.2, random_state=45)"
   ]
  },
  {
   "cell_type": "code",
   "execution_count": 43,
   "id": "b12e81f6-5b85-4320-be53-e33bbe06df26",
   "metadata": {},
   "outputs": [
    {
     "name": "stdout",
     "output_type": "stream",
     "text": [
      "Accuracy scores for the 5 folds: [0.93055556 0.96527778 0.93031359 0.9825784  0.95818815]\n",
      "Mean cross validation score: 0.9533826945412311\n"
     ]
    }
   ],
   "source": [
    "#Log regression classifier OVR\n",
    "\n",
    "digit_lr_clf = LogisticRegression(solver='lbfgs', multi_class='ovr', max_iter=1000)\n",
    "digit_lr_clf_score = cross_val_score(digit_lr_clf, digits_X_train, digits_y_train, cv=5) # getting cross validation score for training data \n",
    "mean_lr_score = np.mean(digit_lr_clf_score)\n",
    "print('Accuracy scores for the 5 folds:',(digit_lr_clf_score))\n",
    "print('Mean cross validation score:',(mean_lr_score))\n"
   ]
  },
  {
   "cell_type": "code",
   "execution_count": 45,
   "id": "0c873883-628f-47cf-aabd-56b36a403470",
   "metadata": {},
   "outputs": [
    {
     "name": "stdout",
     "output_type": "stream",
     "text": [
      "Accuracy scores for the 5 folds: [0.95138889 0.95486111 0.95818815 0.97909408 0.97909408]\n",
      "Mean cross validation score: 0.9645252613240418\n"
     ]
    }
   ],
   "source": [
    "#Random Forest classifier\n",
    "\n",
    "dig_rf_clf = RandomForestClassifier(n_estimators = 24, random_state=64)\n",
    "dig_rf_clf_score = cross_val_score(dig_rf_clf, digits_X_train, digits_y_train, cv=5) # # getting cross validation score for training data \n",
    "mean_rf_score = np.mean(dig_rf_clf_score)\n",
    "print('Accuracy scores for the 5 folds:',(dig_rf_clf_score))\n",
    "print('Mean cross validation score:',(mean_rf_score))"
   ]
  }
 ],
 "metadata": {
  "kernelspec": {
   "display_name": "Python 3 (ipykernel)",
   "language": "python",
   "name": "python3"
  },
  "language_info": {
   "codemirror_mode": {
    "name": "ipython",
    "version": 3
   },
   "file_extension": ".py",
   "mimetype": "text/x-python",
   "name": "python",
   "nbconvert_exporter": "python",
   "pygments_lexer": "ipython3",
   "version": "3.11.7"
  }
 },
 "nbformat": 4,
 "nbformat_minor": 5
}
