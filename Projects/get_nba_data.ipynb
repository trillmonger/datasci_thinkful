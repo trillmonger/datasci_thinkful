{
 "cells": [
  {
   "cell_type": "code",
   "execution_count": 50,
   "metadata": {},
   "outputs": [],
   "source": [
    "import os\n",
    "from bs4 import BeautifulSoup\n",
    "from playwright.async_api import async_playwright, TimeoutError as PlayWrightTimeout\n",
    "import time\n"
   ]
  },
  {
   "cell_type": "code",
   "execution_count": 52,
   "metadata": {},
   "outputs": [],
   "source": [
    "SEASONS = list(range(2019,2024)) #constant that captures seasons 2019-2020 to 2023-2024\n",
    "\n"
   ]
  },
  {
   "cell_type": "code",
   "execution_count": 54,
   "metadata": {},
   "outputs": [],
   "source": [
    "DATA_DIR = \"data0\" # directory storing all the data\n",
    "\n",
    "STANDINGS_DIR = os.path.join(DATA_DIR, \"standings\") # a directory that shows the standings that are scrapped as standings from the html\n",
    "\n",
    "SCORES_DIR = os.path.join(DATA_DIR, \"scores\") # directory to store all the scores"
   ]
  },
  {
   "cell_type": "code",
   "execution_count": 56,
   "metadata": {},
   "outputs": [],
   "source": [
    "async def get_html (url, selector, sleep=5, retries=3):\n",
    "    html = None\n",
    "    for i in range(1, retries+1): # retries are performed by interval of 1 \n",
    "        time.sleep(sleep* i) # time between retries is done by mutilple of 5 secs\n",
    "\n",
    "        try:\n",
    "            async with async_playwright() as p: \n",
    "                browser = await p.chromium.launch() # launches open source version of chrome\n",
    "                page = await browser.new_page()\n",
    "                await page.goto(url)\n",
    "                print(await page.title())\n",
    "                html = await page.inner_html(selector)\n",
    "        except PlayWrightTimeout:\n",
    "            print(f\"Timeout error on {url}\")\n",
    "            continue\n",
    "        else:\n",
    "            break\n",
    "    return html"
   ]
  },
  {
   "cell_type": "code",
   "execution_count": 58,
   "metadata": {
    "tags": []
   },
   "outputs": [],
   "source": [
    "async def scrape_season (season):\n",
    "    url = f\"https://www.basketball-reference.com/leagues/NBA_{season}_games.html\"\n",
    "    html = await get_html(url, \"#content .filter\")\n",
    "    \n",
    "    if html is None:\n",
    "        print(f\"Failed to retrieve HTML for season{season}\")\n",
    "        return\n",
    "    \n",
    "    soup = BeautifulSoup(html, \"html.parser\")\n",
    "    links = soup.find_all(\"a\")\n",
    "    href = [l[\"href\"] for l in links]\n",
    "    standings_pages = [f\"https://www.basketball-reference.com{l}\" for l in href]\n",
    "    \n",
    "    for url in standings_pages:\n",
    "            save_path = os.path.join(STANDINGS_DIR, url.split(\"/\")[-1])\n",
    "            if os.path.exists(save_path):\n",
    "                continue\n",
    "            \n",
    "            html = await get_html(url,\"#all_schedule\")\n",
    "            if html is None: \n",
    "                print(f\"Failed to retrieve HTML for {url}\")\n",
    "                continue\n",
    "              \n",
    "            with open(save_path, \"w+\") as f: \n",
    "                f.write(html)"
   ]
  },
  {
   "cell_type": "code",
   "execution_count": 60,
   "metadata": {},
   "outputs": [
    {
     "name": "stdout",
     "output_type": "stream",
     "text": [
      "2018-19 NBA Schedule | Basketball-Reference.com\n",
      "2018-19 NBA Schedule | Basketball-Reference.com\n",
      "2018-19 NBA Schedule | Basketball-Reference.com\n",
      "2018-19 NBA Schedule | Basketball-Reference.com\n",
      "2018-19 NBA Schedule | Basketball-Reference.com\n",
      "2018-19 NBA Schedule | Basketball-Reference.com\n",
      "2018-19 NBA Schedule | Basketball-Reference.com\n",
      "2018-19 NBA Schedule | Basketball-Reference.com\n",
      "Timeout error on https://www.basketball-reference.com/leagues/NBA_2019_games-may.html\n",
      "Timeout error on https://www.basketball-reference.com/leagues/NBA_2019_games-may.html\n",
      "2018-19 NBA Schedule | Basketball-Reference.com\n",
      "2018-19 NBA Schedule | Basketball-Reference.com\n",
      "Timeout error on https://www.basketball-reference.com/leagues/NBA_2020_games.html\n",
      "2019-20 NBA Schedule | Basketball-Reference.com\n",
      "2019-20 NBA Schedule | Basketball-Reference.com\n",
      "2019-20 NBA Schedule | Basketball-Reference.com\n",
      "2019-20 NBA Schedule | Basketball-Reference.com\n",
      "2019-20 NBA Schedule | Basketball-Reference.com\n",
      "2019-20 NBA Schedule | Basketball-Reference.com\n",
      "2019-20 NBA Schedule | Basketball-Reference.com\n",
      "Timeout error on https://www.basketball-reference.com/leagues/NBA_2020_games-july.html\n",
      "2019-20 NBA Schedule | Basketball-Reference.com\n",
      "2019-20 NBA Schedule | Basketball-Reference.com\n",
      "Timeout error on https://www.basketball-reference.com/leagues/NBA_2020_games-september.html\n",
      "2019-20 NBA Schedule | Basketball-Reference.com\n",
      "2020-21 NBA Schedule | Basketball-Reference.com\n",
      "2020-21 NBA Schedule | Basketball-Reference.com\n",
      "2020-21 NBA Schedule | Basketball-Reference.com\n",
      "2020-21 NBA Schedule | Basketball-Reference.com\n",
      "2020-21 NBA Schedule | Basketball-Reference.com\n",
      "2020-21 NBA Schedule | Basketball-Reference.com\n",
      "2020-21 NBA Schedule | Basketball-Reference.com\n",
      "Timeout error on https://www.basketball-reference.com/leagues/NBA_2021_games-june.html\n",
      "2020-21 NBA Schedule | Basketball-Reference.com\n",
      "Timeout error on https://www.basketball-reference.com/leagues/NBA_2021_games-july.html\n",
      "Timeout error on https://www.basketball-reference.com/leagues/NBA_2021_games-july.html\n",
      "Timeout error on https://www.basketball-reference.com/leagues/NBA_2021_games-july.html\n",
      "Failed to retrieve HTML for https://www.basketball-reference.com/leagues/NBA_2021_games-july.html\n",
      "2021-22 NBA Schedule | Basketball-Reference.com\n",
      "2021-22 NBA Schedule | Basketball-Reference.com\n",
      "2021-22 NBA Schedule | Basketball-Reference.com\n",
      "2021-22 NBA Schedule | Basketball-Reference.com\n",
      "2021-22 NBA Schedule | Basketball-Reference.com\n",
      "2021-22 NBA Schedule | Basketball-Reference.com\n",
      "2021-22 NBA Schedule | Basketball-Reference.com\n",
      "2021-22 NBA Schedule | Basketball-Reference.com\n",
      "2021-22 NBA Schedule | Basketball-Reference.com\n",
      "Timeout error on https://www.basketball-reference.com/leagues/NBA_2022_games-june.html\n",
      "2021-22 NBA Schedule | Basketball-Reference.com\n",
      "2022-23 NBA Schedule | Basketball-Reference.com\n",
      "2022-23 NBA Schedule | Basketball-Reference.com\n",
      "2022-23 NBA Schedule | Basketball-Reference.com\n",
      "2022-23 NBA Schedule | Basketball-Reference.com\n",
      "2022-23 NBA Schedule | Basketball-Reference.com\n",
      "2022-23 NBA Schedule | Basketball-Reference.com\n",
      "2022-23 NBA Schedule | Basketball-Reference.com\n",
      "2022-23 NBA Schedule | Basketball-Reference.com\n",
      "2022-23 NBA Schedule | Basketball-Reference.com\n",
      "Timeout error on https://www.basketball-reference.com/leagues/NBA_2023_games-june.html\n",
      "2022-23 NBA Schedule | Basketball-Reference.com\n"
     ]
    }
   ],
   "source": [
    "for season in SEASONS:\n",
    "    await scrape_season(season)\n"
   ]
  }
 ],
 "metadata": {
  "kernelspec": {
   "display_name": "Python 3 (ipykernel)",
   "language": "python",
   "name": "python3"
  },
  "language_info": {
   "codemirror_mode": {
    "name": "ipython",
    "version": 3
   },
   "file_extension": ".py",
   "mimetype": "text/x-python",
   "name": "python",
   "nbconvert_exporter": "python",
   "pygments_lexer": "ipython3",
   "version": "3.11.7"
  }
 },
 "nbformat": 4,
 "nbformat_minor": 4
}
